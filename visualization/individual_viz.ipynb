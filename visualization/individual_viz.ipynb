{
 "cells": [
  {
   "cell_type": "code",
   "execution_count": 3,
   "metadata": {},
   "outputs": [],
   "source": [
    "import dash\n",
    "from dash import dcc\n",
    "from dash import html\n",
    "from dash.dependencies import Input, Output, State\n",
    "import plotly\n",
    "import plotly.graph_objs as go\n",
    "import pandas as pd\n",
    "from pathlib import Path\n",
    "import os"
   ]
  },
  {
   "cell_type": "markdown",
   "metadata": {},
   "source": [
    "# Import the sample data"
   ]
  },
  {
   "cell_type": "code",
   "execution_count": 86,
   "metadata": {},
   "outputs": [],
   "source": [
    "DATA = Path(input()) #Input path to data folder\n",
    "csv_list = os.listdir(DATA)\n",
    "df_dict = {}\n",
    "for f in csv_list:\n",
    "    df = pd.read_csv(DATA / f)\n",
    "    name = f[:-4]\n",
    "    df_dict[name] = df\n"
   ]
  },
  {
   "cell_type": "code",
   "execution_count": 87,
   "metadata": {},
   "outputs": [],
   "source": [
    "df = df_dict['14th Dalai Lama']"
   ]
  },
  {
   "cell_type": "code",
   "execution_count": 88,
   "metadata": {},
   "outputs": [
    {
     "data": {
      "text/html": [
       "<div>\n",
       "<style scoped>\n",
       "    .dataframe tbody tr th:only-of-type {\n",
       "        vertical-align: middle;\n",
       "    }\n",
       "\n",
       "    .dataframe tbody tr th {\n",
       "        vertical-align: top;\n",
       "    }\n",
       "\n",
       "    .dataframe thead th {\n",
       "        text-align: right;\n",
       "    }\n",
       "</style>\n",
       "<table border=\"1\" class=\"dataframe\">\n",
       "  <thead>\n",
       "    <tr style=\"text-align: right;\">\n",
       "      <th></th>\n",
       "      <th>year</th>\n",
       "      <th>age</th>\n",
       "      <th>event</th>\n",
       "      <th>category1</th>\n",
       "      <th>category2</th>\n",
       "    </tr>\n",
       "  </thead>\n",
       "  <tbody>\n",
       "    <tr>\n",
       "      <th>0</th>\n",
       "      <td>1937</td>\n",
       "      <td>2</td>\n",
       "      <td>14th Dalai Lama was selected as the tulku of t...</td>\n",
       "      <td>summary</td>\n",
       "      <td>NaN</td>\n",
       "    </tr>\n",
       "    <tr>\n",
       "      <th>1</th>\n",
       "      <td>1935</td>\n",
       "      <td>0</td>\n",
       "      <td>14th Dalai Lama was born on 6 July 1935 to a f...</td>\n",
       "      <td>Early life and background</td>\n",
       "      <td>NaN</td>\n",
       "    </tr>\n",
       "    <tr>\n",
       "      <th>2</th>\n",
       "      <td>1940</td>\n",
       "      <td>5</td>\n",
       "      <td>14th Dalai Lama's formal rule as head of the g...</td>\n",
       "      <td>Life as the Dalai Lama</td>\n",
       "      <td>Cooperation and conflicts with the People's Re...</td>\n",
       "    </tr>\n",
       "    <tr>\n",
       "      <th>3</th>\n",
       "      <td>1954</td>\n",
       "      <td>19</td>\n",
       "      <td>On 27 September 1954, 14th Dalai Lama was sele...</td>\n",
       "      <td>Life as the Dalai Lama</td>\n",
       "      <td>Cooperation and conflicts with the People's Re...</td>\n",
       "    </tr>\n",
       "    <tr>\n",
       "      <th>4</th>\n",
       "      <td>1999</td>\n",
       "      <td>64</td>\n",
       "      <td>In 14th Dalai Lama's essay \"The Ethic of Compa...</td>\n",
       "      <td>Life as the Dalai Lama</td>\n",
       "      <td>Teaching activities, public talks</td>\n",
       "    </tr>\n",
       "    <tr>\n",
       "      <th>5</th>\n",
       "      <td>1984</td>\n",
       "      <td>49</td>\n",
       "      <td>As examples of other teachings, in London in 1...</td>\n",
       "      <td>Life as the Dalai Lama</td>\n",
       "      <td>Teaching activities, public talks</td>\n",
       "    </tr>\n",
       "    <tr>\n",
       "      <th>6</th>\n",
       "      <td>2007</td>\n",
       "      <td>72</td>\n",
       "      <td>14th Dalai Lama has met the Archbishop of Cant...</td>\n",
       "      <td>Life as the Dalai Lama</td>\n",
       "      <td>Interfaith dialogue</td>\n",
       "    </tr>\n",
       "    <tr>\n",
       "      <th>7</th>\n",
       "      <td>2010</td>\n",
       "      <td>75</td>\n",
       "      <td>In 2010, 14th Dalai Lama, joined by a panel of...</td>\n",
       "      <td>Life as the Dalai Lama</td>\n",
       "      <td>Interfaith dialogue</td>\n",
       "    </tr>\n",
       "    <tr>\n",
       "      <th>8</th>\n",
       "      <td>2019</td>\n",
       "      <td>84</td>\n",
       "      <td>When asked in 2019 about attacks on the minori...</td>\n",
       "      <td>Social stances</td>\n",
       "      <td>Democracy, nonviolence, religious harmony, and...</td>\n",
       "    </tr>\n",
       "    <tr>\n",
       "      <th>9</th>\n",
       "      <td>1994</td>\n",
       "      <td>59</td>\n",
       "      <td>In a 1994 interview with OUT Magazine, 14th Da...</td>\n",
       "      <td>Social stances</td>\n",
       "      <td>Sexuality</td>\n",
       "    </tr>\n",
       "    <tr>\n",
       "      <th>10</th>\n",
       "      <td>1996</td>\n",
       "      <td>61</td>\n",
       "      <td>In 14th Dalai Lama's 1996 book Beyond Dogma, 1...</td>\n",
       "      <td>Social stances</td>\n",
       "      <td>Sexuality</td>\n",
       "    </tr>\n",
       "    <tr>\n",
       "      <th>11</th>\n",
       "      <td>2006</td>\n",
       "      <td>71</td>\n",
       "      <td>In 2006, 14th Dalai Lama has expressed concern...</td>\n",
       "      <td>Social stances</td>\n",
       "      <td>Sexuality</td>\n",
       "    </tr>\n",
       "    <tr>\n",
       "      <th>12</th>\n",
       "      <td>2018</td>\n",
       "      <td>83</td>\n",
       "      <td>In April 2018, 14th Dalai Lama confirmed Chine...</td>\n",
       "      <td>Criticism</td>\n",
       "      <td>Gedhun Choekyi Nyima</td>\n",
       "    </tr>\n",
       "  </tbody>\n",
       "</table>\n",
       "</div>"
      ],
      "text/plain": [
       "    year  age                                              event  \\\n",
       "0   1937    2  14th Dalai Lama was selected as the tulku of t...   \n",
       "1   1935    0  14th Dalai Lama was born on 6 July 1935 to a f...   \n",
       "2   1940    5  14th Dalai Lama's formal rule as head of the g...   \n",
       "3   1954   19  On 27 September 1954, 14th Dalai Lama was sele...   \n",
       "4   1999   64  In 14th Dalai Lama's essay \"The Ethic of Compa...   \n",
       "5   1984   49  As examples of other teachings, in London in 1...   \n",
       "6   2007   72  14th Dalai Lama has met the Archbishop of Cant...   \n",
       "7   2010   75  In 2010, 14th Dalai Lama, joined by a panel of...   \n",
       "8   2019   84  When asked in 2019 about attacks on the minori...   \n",
       "9   1994   59  In a 1994 interview with OUT Magazine, 14th Da...   \n",
       "10  1996   61  In 14th Dalai Lama's 1996 book Beyond Dogma, 1...   \n",
       "11  2006   71  In 2006, 14th Dalai Lama has expressed concern...   \n",
       "12  2018   83  In April 2018, 14th Dalai Lama confirmed Chine...   \n",
       "\n",
       "                    category1  \\\n",
       "0                     summary   \n",
       "1   Early life and background   \n",
       "2      Life as the Dalai Lama   \n",
       "3      Life as the Dalai Lama   \n",
       "4      Life as the Dalai Lama   \n",
       "5      Life as the Dalai Lama   \n",
       "6      Life as the Dalai Lama   \n",
       "7      Life as the Dalai Lama   \n",
       "8              Social stances   \n",
       "9              Social stances   \n",
       "10             Social stances   \n",
       "11             Social stances   \n",
       "12                  Criticism   \n",
       "\n",
       "                                            category2  \n",
       "0                                                 NaN  \n",
       "1                                                 NaN  \n",
       "2   Cooperation and conflicts with the People's Re...  \n",
       "3   Cooperation and conflicts with the People's Re...  \n",
       "4                   Teaching activities, public talks  \n",
       "5                   Teaching activities, public talks  \n",
       "6                                 Interfaith dialogue  \n",
       "7                                 Interfaith dialogue  \n",
       "8   Democracy, nonviolence, religious harmony, and...  \n",
       "9                                           Sexuality  \n",
       "10                                          Sexuality  \n",
       "11                                          Sexuality  \n",
       "12                               Gedhun Choekyi Nyima  "
      ]
     },
     "execution_count": 88,
     "metadata": {},
     "output_type": "execute_result"
    }
   ],
   "source": [
    "df"
   ]
  },
  {
   "cell_type": "code",
   "execution_count": 4,
   "metadata": {},
   "outputs": [],
   "source": [
    "def generate_timeline(person_name: str, person_df: pd.DataFrame) -> plotly.graph_objects.Figure:\n",
    "    \"\"\"\n",
    "    Generate a life timeline plot for a person based on the provided DataFrame.\n",
    "\n",
    "    Parameters:\n",
    "    - person_name (str): The name of the person.\n",
    "    - person_df (pd.DataFrame): DataFrame containing [\"year\", \"age\", \"event\", \"category1\", \"category2\"].\n",
    "\n",
    "    Returns:\n",
    "    - plotly.graph_objects.Figure: The generated timeline plot.\n",
    "    \"\"\"\n",
    "\n",
    "    def generate_hover_text(row:pd.DataFrame):\n",
    "        ## Helper function to generate display information\n",
    "        hover_text = row[\"event\"]\n",
    "        if pd.notna(row[\"category1\"]):\n",
    "            hover_text += f\"<br><b>Heading:</b> {row['category1']}\"\n",
    "        if pd.notna(row[\"category2\"]):\n",
    "            hover_text += f\"<br><b>Sub-Heading:</b> {row['category2']}\"\n",
    "        return hover_text\n",
    "    # Given the information we have, let's generate what to display\n",
    "    person_df[\"hover_text\"] = person_df.apply(generate_hover_text, axis = 1)\n",
    "    # Let's create the plot's title \n",
    "    figure_title = f\"{person_name}'s Life, according to Wikipedia\"\n",
    "    # The actual graph figure!\n",
    "    fig = go.Figure()\n",
    "    \n",
    "    # Add the data points\n",
    "    fig.add_trace(\n",
    "        go.Scatter(\n",
    "            x=person_df[\"year\"],\n",
    "            y=[1] * len(person_df),\n",
    "            mode=\"markers+text\",\n",
    "            marker=dict(size=20),\n",
    "            text=person_df[\"year\"].astype(str) + \" - Age: \" + person_df[\"age\"].astype(str),  # Set text for the data points\n",
    "            hoverinfo=\"text\",  # Display the text\n",
    "            hovertext=person_df[\"hover_text\"], # When this is set, only this is shown on hoverinfo\n",
    "            showlegend=False,  # Hide this trace in the legend\n",
    "            textposition=\"bottom center\",\n",
    "            textfont=dict(color=\"black\", size=10,),\n",
    "        )\n",
    "    )\n",
    "    fig.update_layout(\n",
    "        title=figure_title,\n",
    "        xaxis=dict(showgrid=True, showline=True, showticklabels=True, ticks=\"outside\"),\n",
    "        yaxis=dict(showgrid=False, showline=False, showticklabels=False),\n",
    "        hovermode=\"closest\",  # Only display hover info for the closest data point\n",
    "    )\n",
    "    # fig.show()\n",
    "    return fig"
   ]
  },
  {
   "cell_type": "code",
   "execution_count": 84,
   "metadata": {},
   "outputs": [
    {
     "data": {
      "application/vnd.plotly.v1+json": {
       "config": {
        "plotlyServerURL": "https://plot.ly"
       },
       "data": [
        {
         "hoverinfo": "text",
         "hovertext": [
          "Abbe Pierre was born on 5 August 1912 in Lyon, France to a wealthy Catholic family of silk traders, the fifth of eight children.<br><b>Heading:</b> Youth and education",
          "In 1928, aged 16, Abbe Pierre made the decision to join a monastic order, but Abbe Pierre had to wait until Abbe Pierre was seventeen and a half to fulfill the decision to join a monastic order.<br><b>Heading:</b> Youth and education",
          "When World War II broke out in 1939, Abbe Pierre was mobilised as a non-commissioned officer in the train transport corps.<br><b>Heading:</b> World War II",
          "For a time, in 1943, Abbe Pierre was given shelter by Lucie Coutaz, a Resistance member who later became his secretary and was his assistant in his charity work until her death in 1982.He<br><b>Heading:</b> World War II",
          "At the end of the Second World War, Abbe Pierre was awarded the Croix de guerre 1939-1945 with bronze palms and the Médaille de la Résistance.<br><b>Heading:</b> World War II",
          "When the war was over, following de Gaulle's entourage's advice and the approbation of the archbishop of Paris, Abbe Pierre was elected deputy for Meurthe-et-Moselle department in both National Constituent Assemblies in 1945–1946 as an independent close to the Popular Republican Movement (MRP), mainly consisting of Christian democratic members of the Resistance.<br><b>Heading:</b> Political career (1945–51) and the 1960s/70s",
          "Abbe Pierre became vice-president of the World Federalist Movement in 1947, a universal federalist movement.<br><b>Heading:</b> Political career (1945–51) and the 1960s/70s",
          "In 1951, before the end of Abbe Pierre's mandate, Abbe Pierre returned to Abbe Pierre's first vocation: to help homeless people.<br><b>Heading:</b> Political career (1945–51) and the 1960s/70s",
          "Abbe Pierre was also received by US president Eisenhower and Mohammed V of Morocco in 1955 and 1956.In 1962 Abbe Pierre resided for several months in Charles de Foucauld's retreat in Béni-Abbés (Algeria).[citation needed]The<br><b>Heading:</b> Political career (1945–51) and the 1960s/70s",
          "Abbe Pierre was started in 1949.<br><b>Heading:</b> Emmaus<br><b>Sub-Heading:</b> 1949: the origin",
          "Abbe Pierre became famous during the extremely cold winter of 1954 in France, when homeless people were dying in the streets.<br><b>Heading:</b> Emmaus<br><b>Sub-Heading:</b> Winter 1954: \"Uprising of kindness\"",
          "Following the failure of the projected law on lodgings, Abbe Pierre gave a well-remembered speech on Radio Luxembourg on 1 February 1954, and asked Le Figaro, a conservative newspaper which, as Abbe Pierre said, was read by \"the powerful\", to publish Abbe Pierre's call:Abbe Pierre's friends, come help ...<br><b>Heading:</b> Emmaus<br><b>Sub-Heading:</b> Winter 1954: \"Uprising of kindness\"",
          "Abbe Pierre traveled to Beyrouth (Beirut, Lebanon) in 1959, to assist in the creation of the first multiconfessional Emmaus group there; the first multiconfessional Emmaus group there was founded by a Sunni (Muslim), a Melkite (Catholic) archbishop and a Maronite (Christian) writer.[citation needed]<br><b>Heading:</b> Emmaus<br><b>Sub-Heading:</b> Winter 1954: \"Uprising of kindness\"",
          "than 20 years later, the ANSA, Italian press agency, recalled that Abbe Pierre had supported in 2005 one of Abbe Pierre's physicians, Michele d'Auria, who was a former member of Prima Linea, an Italian far-left group, and was accused of having participated in hold-ups during 1990.<br><b>Heading:</b> 1980s to 2000s",
          "A staunch supporter of the Palestinian cause, Abbe Pierre has attracted attention with some of Abbe Pierre's statements on the Israeli-Palestine conflictHis support \"à titre amical\" (\"in title of friendship\") for Roger Garaudy in 1996 brought controversy.<br><b>Heading:</b> 1980s to 2000s",
          "Following this 1996 controversial support to a personal acquaintance, Abbe Pierre was shunned for a small period by the media, although Abbe Pierre remained a popular figure.<br><b>Heading:</b> 1980s to 2000s",
          "Abbe Pierre had the distinction of having been voted France's most popular person for many years, though in 2003 Abbe Pierre was surpassed by Zinedine Zidane, moving into second place.<br><b>Heading:</b> International recognition",
          "In 2005 Abbe Pierre came third in a television poll to choose Le Plus Grand Français (The Greatest Frenchman).In 1998, Abbe Pierre has been made Grand Officer of the National Order of Quebec while in 2004, Abbe Pierre was awarded the Grand Cross of the Legion of Honor by Jacques Chirac.<br><b>Heading:</b> International recognition",
          "Abbe Pierre also received the Balzan Prize for Humanity, Peace and Brotherhood among Peoples in 1991 \"For having fought, throughout Abbe Pierre's life, for the defence of human rights, democracy and peace.<br><b>Heading:</b> International recognition",
          "Abbe Pierre remained active until his death on 22 January 2007 in the Val-de-Grâce military hospital in Paris, following a lung infection, aged 94.He<br><b>Heading:</b> Death"
         ],
         "marker": {
          "size": 20
         },
         "mode": "markers+text",
         "showlegend": false,
         "text": [
          "1912 - Age: 0",
          "1928 - Age: 16",
          "1939 - Age: 27",
          "1943 - Age: 31",
          "1939 - Age: 27",
          "1945 - Age: 33",
          "1947 - Age: 35",
          "1951 - Age: 39",
          "1955 - Age: 43",
          "1949 - Age: 37",
          "1954 - Age: 42",
          "1954 - Age: 42",
          "1959 - Age: 47",
          "2005 - Age: 93",
          "1996 - Age: 84",
          "1996 - Age: 84",
          "2003 - Age: 91",
          "2005 - Age: 93",
          "1991 - Age: 79",
          "2007 - Age: 95"
         ],
         "textfont": {
          "color": "black",
          "size": 10
         },
         "textposition": "bottom center",
         "type": "scatter",
         "x": [
          1912,
          1928,
          1939,
          1943,
          1939,
          1945,
          1947,
          1951,
          1955,
          1949,
          1954,
          1954,
          1959,
          2005,
          1996,
          1996,
          2003,
          2005,
          1991,
          2007
         ],
         "y": [
          1,
          1,
          1,
          1,
          1,
          1,
          1,
          1,
          1,
          1,
          1,
          1,
          1,
          1,
          1,
          1,
          1,
          1,
          1,
          1
         ]
        }
       ],
       "layout": {
        "hovermode": "closest",
        "template": {
         "data": {
          "bar": [
           {
            "error_x": {
             "color": "#2a3f5f"
            },
            "error_y": {
             "color": "#2a3f5f"
            },
            "marker": {
             "line": {
              "color": "#E5ECF6",
              "width": 0.5
             },
             "pattern": {
              "fillmode": "overlay",
              "size": 10,
              "solidity": 0.2
             }
            },
            "type": "bar"
           }
          ],
          "barpolar": [
           {
            "marker": {
             "line": {
              "color": "#E5ECF6",
              "width": 0.5
             },
             "pattern": {
              "fillmode": "overlay",
              "size": 10,
              "solidity": 0.2
             }
            },
            "type": "barpolar"
           }
          ],
          "carpet": [
           {
            "aaxis": {
             "endlinecolor": "#2a3f5f",
             "gridcolor": "white",
             "linecolor": "white",
             "minorgridcolor": "white",
             "startlinecolor": "#2a3f5f"
            },
            "baxis": {
             "endlinecolor": "#2a3f5f",
             "gridcolor": "white",
             "linecolor": "white",
             "minorgridcolor": "white",
             "startlinecolor": "#2a3f5f"
            },
            "type": "carpet"
           }
          ],
          "choropleth": [
           {
            "colorbar": {
             "outlinewidth": 0,
             "ticks": ""
            },
            "type": "choropleth"
           }
          ],
          "contour": [
           {
            "colorbar": {
             "outlinewidth": 0,
             "ticks": ""
            },
            "colorscale": [
             [
              0,
              "#0d0887"
             ],
             [
              0.1111111111111111,
              "#46039f"
             ],
             [
              0.2222222222222222,
              "#7201a8"
             ],
             [
              0.3333333333333333,
              "#9c179e"
             ],
             [
              0.4444444444444444,
              "#bd3786"
             ],
             [
              0.5555555555555556,
              "#d8576b"
             ],
             [
              0.6666666666666666,
              "#ed7953"
             ],
             [
              0.7777777777777778,
              "#fb9f3a"
             ],
             [
              0.8888888888888888,
              "#fdca26"
             ],
             [
              1,
              "#f0f921"
             ]
            ],
            "type": "contour"
           }
          ],
          "contourcarpet": [
           {
            "colorbar": {
             "outlinewidth": 0,
             "ticks": ""
            },
            "type": "contourcarpet"
           }
          ],
          "heatmap": [
           {
            "colorbar": {
             "outlinewidth": 0,
             "ticks": ""
            },
            "colorscale": [
             [
              0,
              "#0d0887"
             ],
             [
              0.1111111111111111,
              "#46039f"
             ],
             [
              0.2222222222222222,
              "#7201a8"
             ],
             [
              0.3333333333333333,
              "#9c179e"
             ],
             [
              0.4444444444444444,
              "#bd3786"
             ],
             [
              0.5555555555555556,
              "#d8576b"
             ],
             [
              0.6666666666666666,
              "#ed7953"
             ],
             [
              0.7777777777777778,
              "#fb9f3a"
             ],
             [
              0.8888888888888888,
              "#fdca26"
             ],
             [
              1,
              "#f0f921"
             ]
            ],
            "type": "heatmap"
           }
          ],
          "heatmapgl": [
           {
            "colorbar": {
             "outlinewidth": 0,
             "ticks": ""
            },
            "colorscale": [
             [
              0,
              "#0d0887"
             ],
             [
              0.1111111111111111,
              "#46039f"
             ],
             [
              0.2222222222222222,
              "#7201a8"
             ],
             [
              0.3333333333333333,
              "#9c179e"
             ],
             [
              0.4444444444444444,
              "#bd3786"
             ],
             [
              0.5555555555555556,
              "#d8576b"
             ],
             [
              0.6666666666666666,
              "#ed7953"
             ],
             [
              0.7777777777777778,
              "#fb9f3a"
             ],
             [
              0.8888888888888888,
              "#fdca26"
             ],
             [
              1,
              "#f0f921"
             ]
            ],
            "type": "heatmapgl"
           }
          ],
          "histogram": [
           {
            "marker": {
             "pattern": {
              "fillmode": "overlay",
              "size": 10,
              "solidity": 0.2
             }
            },
            "type": "histogram"
           }
          ],
          "histogram2d": [
           {
            "colorbar": {
             "outlinewidth": 0,
             "ticks": ""
            },
            "colorscale": [
             [
              0,
              "#0d0887"
             ],
             [
              0.1111111111111111,
              "#46039f"
             ],
             [
              0.2222222222222222,
              "#7201a8"
             ],
             [
              0.3333333333333333,
              "#9c179e"
             ],
             [
              0.4444444444444444,
              "#bd3786"
             ],
             [
              0.5555555555555556,
              "#d8576b"
             ],
             [
              0.6666666666666666,
              "#ed7953"
             ],
             [
              0.7777777777777778,
              "#fb9f3a"
             ],
             [
              0.8888888888888888,
              "#fdca26"
             ],
             [
              1,
              "#f0f921"
             ]
            ],
            "type": "histogram2d"
           }
          ],
          "histogram2dcontour": [
           {
            "colorbar": {
             "outlinewidth": 0,
             "ticks": ""
            },
            "colorscale": [
             [
              0,
              "#0d0887"
             ],
             [
              0.1111111111111111,
              "#46039f"
             ],
             [
              0.2222222222222222,
              "#7201a8"
             ],
             [
              0.3333333333333333,
              "#9c179e"
             ],
             [
              0.4444444444444444,
              "#bd3786"
             ],
             [
              0.5555555555555556,
              "#d8576b"
             ],
             [
              0.6666666666666666,
              "#ed7953"
             ],
             [
              0.7777777777777778,
              "#fb9f3a"
             ],
             [
              0.8888888888888888,
              "#fdca26"
             ],
             [
              1,
              "#f0f921"
             ]
            ],
            "type": "histogram2dcontour"
           }
          ],
          "mesh3d": [
           {
            "colorbar": {
             "outlinewidth": 0,
             "ticks": ""
            },
            "type": "mesh3d"
           }
          ],
          "parcoords": [
           {
            "line": {
             "colorbar": {
              "outlinewidth": 0,
              "ticks": ""
             }
            },
            "type": "parcoords"
           }
          ],
          "pie": [
           {
            "automargin": true,
            "type": "pie"
           }
          ],
          "scatter": [
           {
            "fillpattern": {
             "fillmode": "overlay",
             "size": 10,
             "solidity": 0.2
            },
            "type": "scatter"
           }
          ],
          "scatter3d": [
           {
            "line": {
             "colorbar": {
              "outlinewidth": 0,
              "ticks": ""
             }
            },
            "marker": {
             "colorbar": {
              "outlinewidth": 0,
              "ticks": ""
             }
            },
            "type": "scatter3d"
           }
          ],
          "scattercarpet": [
           {
            "marker": {
             "colorbar": {
              "outlinewidth": 0,
              "ticks": ""
             }
            },
            "type": "scattercarpet"
           }
          ],
          "scattergeo": [
           {
            "marker": {
             "colorbar": {
              "outlinewidth": 0,
              "ticks": ""
             }
            },
            "type": "scattergeo"
           }
          ],
          "scattergl": [
           {
            "marker": {
             "colorbar": {
              "outlinewidth": 0,
              "ticks": ""
             }
            },
            "type": "scattergl"
           }
          ],
          "scattermapbox": [
           {
            "marker": {
             "colorbar": {
              "outlinewidth": 0,
              "ticks": ""
             }
            },
            "type": "scattermapbox"
           }
          ],
          "scatterpolar": [
           {
            "marker": {
             "colorbar": {
              "outlinewidth": 0,
              "ticks": ""
             }
            },
            "type": "scatterpolar"
           }
          ],
          "scatterpolargl": [
           {
            "marker": {
             "colorbar": {
              "outlinewidth": 0,
              "ticks": ""
             }
            },
            "type": "scatterpolargl"
           }
          ],
          "scatterternary": [
           {
            "marker": {
             "colorbar": {
              "outlinewidth": 0,
              "ticks": ""
             }
            },
            "type": "scatterternary"
           }
          ],
          "surface": [
           {
            "colorbar": {
             "outlinewidth": 0,
             "ticks": ""
            },
            "colorscale": [
             [
              0,
              "#0d0887"
             ],
             [
              0.1111111111111111,
              "#46039f"
             ],
             [
              0.2222222222222222,
              "#7201a8"
             ],
             [
              0.3333333333333333,
              "#9c179e"
             ],
             [
              0.4444444444444444,
              "#bd3786"
             ],
             [
              0.5555555555555556,
              "#d8576b"
             ],
             [
              0.6666666666666666,
              "#ed7953"
             ],
             [
              0.7777777777777778,
              "#fb9f3a"
             ],
             [
              0.8888888888888888,
              "#fdca26"
             ],
             [
              1,
              "#f0f921"
             ]
            ],
            "type": "surface"
           }
          ],
          "table": [
           {
            "cells": {
             "fill": {
              "color": "#EBF0F8"
             },
             "line": {
              "color": "white"
             }
            },
            "header": {
             "fill": {
              "color": "#C8D4E3"
             },
             "line": {
              "color": "white"
             }
            },
            "type": "table"
           }
          ]
         },
         "layout": {
          "annotationdefaults": {
           "arrowcolor": "#2a3f5f",
           "arrowhead": 0,
           "arrowwidth": 1
          },
          "autotypenumbers": "strict",
          "coloraxis": {
           "colorbar": {
            "outlinewidth": 0,
            "ticks": ""
           }
          },
          "colorscale": {
           "diverging": [
            [
             0,
             "#8e0152"
            ],
            [
             0.1,
             "#c51b7d"
            ],
            [
             0.2,
             "#de77ae"
            ],
            [
             0.3,
             "#f1b6da"
            ],
            [
             0.4,
             "#fde0ef"
            ],
            [
             0.5,
             "#f7f7f7"
            ],
            [
             0.6,
             "#e6f5d0"
            ],
            [
             0.7,
             "#b8e186"
            ],
            [
             0.8,
             "#7fbc41"
            ],
            [
             0.9,
             "#4d9221"
            ],
            [
             1,
             "#276419"
            ]
           ],
           "sequential": [
            [
             0,
             "#0d0887"
            ],
            [
             0.1111111111111111,
             "#46039f"
            ],
            [
             0.2222222222222222,
             "#7201a8"
            ],
            [
             0.3333333333333333,
             "#9c179e"
            ],
            [
             0.4444444444444444,
             "#bd3786"
            ],
            [
             0.5555555555555556,
             "#d8576b"
            ],
            [
             0.6666666666666666,
             "#ed7953"
            ],
            [
             0.7777777777777778,
             "#fb9f3a"
            ],
            [
             0.8888888888888888,
             "#fdca26"
            ],
            [
             1,
             "#f0f921"
            ]
           ],
           "sequentialminus": [
            [
             0,
             "#0d0887"
            ],
            [
             0.1111111111111111,
             "#46039f"
            ],
            [
             0.2222222222222222,
             "#7201a8"
            ],
            [
             0.3333333333333333,
             "#9c179e"
            ],
            [
             0.4444444444444444,
             "#bd3786"
            ],
            [
             0.5555555555555556,
             "#d8576b"
            ],
            [
             0.6666666666666666,
             "#ed7953"
            ],
            [
             0.7777777777777778,
             "#fb9f3a"
            ],
            [
             0.8888888888888888,
             "#fdca26"
            ],
            [
             1,
             "#f0f921"
            ]
           ]
          },
          "colorway": [
           "#636efa",
           "#EF553B",
           "#00cc96",
           "#ab63fa",
           "#FFA15A",
           "#19d3f3",
           "#FF6692",
           "#B6E880",
           "#FF97FF",
           "#FECB52"
          ],
          "font": {
           "color": "#2a3f5f"
          },
          "geo": {
           "bgcolor": "white",
           "lakecolor": "white",
           "landcolor": "#E5ECF6",
           "showlakes": true,
           "showland": true,
           "subunitcolor": "white"
          },
          "hoverlabel": {
           "align": "left"
          },
          "hovermode": "closest",
          "mapbox": {
           "style": "light"
          },
          "paper_bgcolor": "white",
          "plot_bgcolor": "#E5ECF6",
          "polar": {
           "angularaxis": {
            "gridcolor": "white",
            "linecolor": "white",
            "ticks": ""
           },
           "bgcolor": "#E5ECF6",
           "radialaxis": {
            "gridcolor": "white",
            "linecolor": "white",
            "ticks": ""
           }
          },
          "scene": {
           "xaxis": {
            "backgroundcolor": "#E5ECF6",
            "gridcolor": "white",
            "gridwidth": 2,
            "linecolor": "white",
            "showbackground": true,
            "ticks": "",
            "zerolinecolor": "white"
           },
           "yaxis": {
            "backgroundcolor": "#E5ECF6",
            "gridcolor": "white",
            "gridwidth": 2,
            "linecolor": "white",
            "showbackground": true,
            "ticks": "",
            "zerolinecolor": "white"
           },
           "zaxis": {
            "backgroundcolor": "#E5ECF6",
            "gridcolor": "white",
            "gridwidth": 2,
            "linecolor": "white",
            "showbackground": true,
            "ticks": "",
            "zerolinecolor": "white"
           }
          },
          "shapedefaults": {
           "line": {
            "color": "#2a3f5f"
           }
          },
          "ternary": {
           "aaxis": {
            "gridcolor": "white",
            "linecolor": "white",
            "ticks": ""
           },
           "baxis": {
            "gridcolor": "white",
            "linecolor": "white",
            "ticks": ""
           },
           "bgcolor": "#E5ECF6",
           "caxis": {
            "gridcolor": "white",
            "linecolor": "white",
            "ticks": ""
           }
          },
          "title": {
           "x": 0.05
          },
          "xaxis": {
           "automargin": true,
           "gridcolor": "white",
           "linecolor": "white",
           "ticks": "",
           "title": {
            "standoff": 15
           },
           "zerolinecolor": "white",
           "zerolinewidth": 2
          },
          "yaxis": {
           "automargin": true,
           "gridcolor": "white",
           "linecolor": "white",
           "ticks": "",
           "title": {
            "standoff": 15
           },
           "zerolinecolor": "white",
           "zerolinewidth": 2
          }
         }
        },
        "title": {
         "text": "Abbe Pierre's Life, according to Wikipedia"
        },
        "xaxis": {
         "showgrid": true,
         "showline": true,
         "showticklabels": true,
         "ticks": "outside"
        },
        "yaxis": {
         "showgrid": false,
         "showline": false,
         "showticklabels": false
        }
       }
      }
     },
     "metadata": {},
     "output_type": "display_data"
    }
   ],
   "source": [
    "generate_timeline(\"Abbe Pierre\", df_list[1])"
   ]
  },
  {
   "cell_type": "markdown",
   "metadata": {},
   "source": [
    "# Make the plotly graph first"
   ]
  },
  {
   "cell_type": "code",
   "execution_count": null,
   "metadata": {},
   "outputs": [],
   "source": [
    "name_figures = {}\n",
    "for name, df in df_dict.items():\n",
    "    figure = generate_timeline(name, df)\n",
    "    name_figures[name] = figure"
   ]
  },
  {
   "cell_type": "code",
   "execution_count": null,
   "metadata": {},
   "outputs": [],
   "source": [
    "import dash\n",
    "import dash_core_components as dcc\n",
    "import dash_html_components as html\n",
    "from dash.dependencies import Input, Output, State\n",
    "import plotly.graph_objs as go\n",
    "\n",
    "app = dash.Dash(__name__)\n",
    "\n",
    "# Sample initial figure\n",
    "initial_figure = go.Figure(data=[go.Scatter(x=[1, 2, 3], y=[4, 1, 2], mode='lines+markers')])\n",
    "\n",
    "name_figures = {}\n",
    "for name, df in df_dict.items():\n",
    "    figure = generate_timeline(name, df)\n",
    "    name_figures[name] = figure\n",
    "\n",
    "app.layout = html.Div([\n",
    "    # Row for the selected name's figure\n",
    "    html.Div([\n",
    "        # Selection bar at the top\n",
    "        dcc.Dropdown(\n",
    "            id='name-dropdown',\n",
    "            options=[\n",
    "                {'label': name, 'value': name} for name in name_figures.keys()\n",
    "            ],\n",
    "            value=list(name_figures.keys())[0],  # Set default value to the first name\n",
    "            style={'width': '50%', 'margin-bottom': '20px'}\n",
    "        ),\n",
    "\n",
    "        # Placeholder for displaying the selected name's figure\n",
    "        html.Div(id='selected-name-figure-placeholder', style={'width': '100%'})\n",
    "    ], style={'width': '100%', 'margin-bottom': '20px'}),\n",
    "\n",
    "    # Row for the initial figure\n",
    "    html.Div([\n",
    "        dcc.Graph(\n",
    "            id='initial-figure',\n",
    "            figure=initial_figure,\n",
    "        ),\n",
    "    ], style={'width': '100%'}),\n",
    "])\n",
    "\n",
    "\n",
    "# Callback to display the selected name's figure horizontally\n",
    "@app.callback(\n",
    "    Output('selected-name-figure-placeholder', 'children'),\n",
    "    [Input('name-dropdown', 'value')]\n",
    ")\n",
    "def display_selected_name_figure(selected_name):\n",
    "    if selected_name:\n",
    "        selected_figure = name_figures.get(selected_name, initial_figure)\n",
    "        return dcc.Graph(\n",
    "            id='selected-name-figure',\n",
    "            figure=selected_figure,\n",
    "            style={'width': '100%'}\n",
    "        )\n",
    "    return None\n",
    "\n",
    "\n",
    "if __name__ == '__main__':\n",
    "    app.run_server(debug=True, use_reloader=False, mode='inline')\n"
   ]
  },
  {
   "cell_type": "code",
   "execution_count": 5,
   "metadata": {},
   "outputs": [],
   "source": [
    "HOME_PATH = Path(input()) #Input root directory\n",
    "def get_visualization_data(relative_path = \"data/ready_for_visualization/\") -> dict:\n",
    "    \"\"\"\n",
    "    From the input path, return a dictionary od pandas DataFrames, with the csv files' names as the keys\n",
    "\n",
    "    Parameters:\n",
    "    - relative_path (str): The relative path of the folder with all the csv files ready for visualization\n",
    "\n",
    "    Returns:\n",
    "    - df_dict[name] = df: A dictionary with name(str) as the key, and the DataFrame as the value\n",
    "    \"\"\"\n",
    "    get_path = HOME_PATH / relative_path\n",
    "    csv_list = os.listdir(get_path)\n",
    "    df_dict = {}\n",
    "    for csv_file in csv_list:\n",
    "        name = csv_file[:-4]\n",
    "        df = pd.read_csv(HOME_PATH / relative_path / csv_file)\n",
    "        df_dict[name] = df\n",
    "    return df_dict"
   ]
  },
  {
   "cell_type": "code",
   "execution_count": 13,
   "metadata": {},
   "outputs": [],
   "source": [
    "HOME_PATH = Path(input()) #Input root directory\n",
    "def get_visualization_data(relative_path = \"data/labeled_final_df/\") -> dict:\n",
    "    \"\"\"\n",
    "    From the input path, return a dictionary od pandas DataFrames, with the csv files' names as the keys\n",
    "\n",
    "    Parameters:\n",
    "    - relative_path (str): The relative path of the folder with all the csv files ready for visualization\n",
    "\n",
    "    Returns:\n",
    "    - df_dict[name] = df: A dictionary with name(str) as the key, and the DataFrame as the value\n",
    "    \"\"\"\n",
    "    get_path = HOME_PATH / relative_path\n",
    "    csv_list = os.listdir(get_path)\n",
    "    df_dict = {}\n",
    "    for csv_file in csv_list:\n",
    "        name = csv_file[:-4]\n",
    "        df = pd.read_csv(HOME_PATH / relative_path / csv_file)\n",
    "        df_dict[name] = df\n",
    "    return df_dict\n",
    "relative_path = \"data/labeled_final_df/\"\n",
    "get_path = HOME_PATH / relative_path\n",
    "csv_list = os.listdir(get_path)\n",
    "df_dict = {}\n",
    "for csv_file in csv_list:\n",
    "    name = csv_file[:-12]\n",
    "    df = pd.read_csv(HOME_PATH / relative_path / csv_file)\n",
    "    df_dict[name] = df"
   ]
  },
  {
   "cell_type": "code",
   "execution_count": 14,
   "metadata": {},
   "outputs": [
    {
     "data": {
      "text/plain": [
       "dict_keys(['14th Dalai Lama', 'Abbe Pierre', 'Adele', 'Adolf Hitler', 'Al Capone', 'Albert Einstein', 'Alec Guinness', 'Alexander Fleming', 'Alfred Hitchcock', 'Angela Merkel', 'Anne Frank', 'Aryton Senna', 'Ataturk', 'Audrey Hepburn', 'Aung San Suu Kyi', 'Babe Ruth', 'Barack Obama', 'Beatrix Potter', 'Benazir Bhutto', 'Benjamin Netanyahu', 'Bernard Montgomery', 'Beyonce', 'Bill Gates', 'Billie Holiday', 'Billie Jean King', 'Bob Geldof', 'Bob Iger', 'Bobby Moore', 'Boris Yeltsin', 'Brad Pitt', 'C.S. Lewis', 'Carl Lewis', 'Catherine, Princess of Wales', 'Charles de Gaulle', 'Charles Koch', 'Cliff Richard', 'Coco Chanel', 'Condoleezza Rice', 'David Beckham', 'David Hockney', 'David Koch', 'Desmond Tutu', 'Douglas Haig', 'Dwight Eisenhower', 'Edvard Munch', 'Eleanor Roosevelt', 'Elizabeth Warren', 'Elton John', 'Elvis Presley', 'Enrico Fermi', 'Ernest Hemingway', 'Eva Peron', 'Franklin D. Roosevelt', 'Gabriela Mistral', 'General Patton', 'George Harrison', 'George Orwell', 'Germaine Greer', 'Henry Ford', 'Hillary Clinton', 'Hu Jintao', 'Indira Gandhi', 'J.K.Rowling', 'J.R.R.Tolkien', 'Jacqueline Kennedy Onassis', 'Janet Yellen', 'Jawaharlal Nehru', 'Jeff Bezos', 'Jesse Owens', 'Joe Biden', 'John F Kennedy', 'John Kerry', 'John Lennon', 'John Logie Baird', 'John Maynard Keynes', 'John Paul II', 'John Roberts', 'John Steinbeck', 'Joseph Stalin', 'Julie Andrews', 'Kamala Harris', 'Katherine Hepburn', 'Kofi Annan', 'Larry Page', 'LeBron James', 'Lewis Hamilton', 'Lionel Messi', 'Lord Baden Powell', 'Lyndon Johnson', 'Ma Huateng', 'Madonna', 'Maharishi Mahesh Yogi', 'Mahatma Gandhi', 'Malala Yousafzai', 'Malcolm X', 'Margaret Thatcher', 'Marie Curie\\uf8f7', 'Marilyn Monroe', 'Mario Draghi', 'Mark Zuckerberg', 'Martin Luther King', 'Michael Caine', 'Michael Jackson', 'Michael Jordan', 'Michael Moore', 'Michelle Obama', 'Mikhail Gorbachev', 'Mother Teresa', 'Muhammed Ali', 'Muqtada al-Sadr', 'Naomi Osaka', 'Neil Armstrong', 'Nelson Mandela', 'Nikola Tesla', 'Oprah Winfrey', 'Oscar Wilde', 'Pablo Picasso', 'Paramahansa Yogananda', 'Paul McCartney', 'Pele', 'Peter Sellers', 'Pope Benedict XVI', 'Pope Francis', 'Princess Diana', 'Raisa Gorbachev', 'Recep Tayyip Erdogan', 'Ren Zhengfei', 'Richard Attenborough', 'Richard Branson', 'Richard Burton', 'Roger Bannister', 'Ronald Reagan', 'Rosa Parks', 'Rupert Murdoch', 'Sachin Tendulkar', 'Salvador Dali', 'Shonda Rhimes', 'Sir Charlie Chaplin', 'Sir Donald Bradman', 'Sri Aurobindo', 'Stephen Hawking', 'Steve Jobs', 'T.E. Lawrence', 'Taylor Swift', 'Theodore Roosevelt', 'Tiger Woods', 'Tim Berners-Lee', 'Tim Cook', 'Tony Blair', 'V.I. Lenin', 'Virginia Woolf', 'Walt Disney', 'Warren Buffett', 'Wilfred Owens', 'Winston Churchill', 'Woodrow Wilson', 'Xi Jinping'])"
      ]
     },
     "execution_count": 14,
     "metadata": {},
     "output_type": "execute_result"
    }
   ],
   "source": [
    "df_dict.keys()"
   ]
  },
  {
   "cell_type": "code",
   "execution_count": 20,
   "metadata": {},
   "outputs": [
    {
     "data": {
      "text/html": [
       "\n",
       "        <iframe\n",
       "            width=\"100%\"\n",
       "            height=\"650\"\n",
       "            src=\"http://127.0.0.1:8050/\"\n",
       "            frameborder=\"0\"\n",
       "            allowfullscreen\n",
       "            \n",
       "        ></iframe>\n",
       "        "
      ],
      "text/plain": [
       "<IPython.lib.display.IFrame at 0x1f4bcacb340>"
      ]
     },
     "metadata": {},
     "output_type": "display_data"
    },
    {
     "ename": "",
     "evalue": "",
     "output_type": "error",
     "traceback": [
      "\u001b[1;31mThe Kernel crashed while executing code in the the current cell or a previous cell. Please review the code in the cell(s) to identify a possible cause of the failure. Click <a href='https://aka.ms/vscodeJupyterKernelCrash'>here</a> for more info. View Jupyter <a href='command:jupyter.viewOutput'>log</a> for further details."
     ]
    }
   ],
   "source": [
    "import dash\n",
    "from dash import dcc\n",
    "from dash import html\n",
    "from dash.dependencies import Input, Output, State\n",
    "import plotly\n",
    "import plotly.graph_objs as go\n",
    "import pandas as pd\n",
    "from pathlib import Path\n",
    "import os\n",
    "\n",
    "HOME_PATH = Path(r\"C:\\Users\\lhi30\\Haein\\2023\\YBIGTA\\2023-2\\DA\\Wiki_People\\Share\")\n",
    "def get_visualization_data(relative_path = \"data/final_df/\", labeled = True) -> dict:\n",
    "    \"\"\"\n",
    "    From the input path, return a dictionary od pandas DataFrames, with the csv files' names as the keys\n",
    "\n",
    "    Parameters:\n",
    "    - relative_path (str): The relative path of the folder with all the csv files ready for visualization\n",
    "\n",
    "    Returns:\n",
    "    - df_dict[name] = df: A dictionary with name(str) as the key, and the DataFrame as the value\n",
    "    \"\"\"\n",
    "    if labeled:\n",
    "        relative_path = \"data/labeled_final_df/\"\n",
    "        get_path = HOME_PATH / relative_path\n",
    "        csv_list = os.listdir(get_path)\n",
    "        df_dict = {}\n",
    "        for csv_file in csv_list:\n",
    "            name = csv_file[:-12]\n",
    "            df = pd.read_csv(HOME_PATH / relative_path / csv_file)\n",
    "            df_dict[name] = df\n",
    "        return df_dict\n",
    "    else:\n",
    "        get_path = HOME_PATH / relative_path\n",
    "        csv_list = os.listdir(get_path)\n",
    "        df_dict = {}\n",
    "        for csv_file in csv_list:\n",
    "            name = csv_file[:-4]\n",
    "            df = pd.read_csv(HOME_PATH / relative_path / csv_file)\n",
    "            df_dict[name] = df\n",
    "        return df_dict\n",
    "\n",
    "def generate_timeline(person_name: str, person_df: pd.DataFrame) -> plotly.graph_objects.Figure:\n",
    "    \"\"\"\n",
    "    Generate a life timeline plot for a person based on the provided DataFrame.\n",
    "\n",
    "    Parameters:\n",
    "    - person_name (str): The name of the person.\n",
    "    - person_df (pd.DataFrame): DataFrame containing [\"year\", \"age\", \"event\", \"category1\", \"category2\", \"Personal Life / Career\"].\n",
    "\n",
    "    Returns:\n",
    "    - plotly.graph_objects.Figure: The generated timeline plot.\n",
    "    \"\"\"\n",
    "\n",
    "    def generate_hover_text(row: pd.DataFrame):\n",
    "        hover_text = row[\"event\"]\n",
    "        if pd.notna(row[\"category1\"]):\n",
    "            hover_text += f\"<br><b>Heading:</b> {row['category1']}\"\n",
    "        if pd.notna(row[\"category2\"]):\n",
    "            hover_text += f\"<br><b>Sub-Heading:</b> {row['category2']}\"\n",
    "        return hover_text\n",
    "\n",
    "    # Given the information we have, let's generate what to display\n",
    "    person_df[\"hover_text\"] = person_df.apply(generate_hover_text, axis=1)\n",
    "\n",
    "    # Define colors based on \"Personal Life / Career\" column\n",
    "    color_dict = {\"Personal Life\": \"gold\", \"Career\": \"skyblue\"}\n",
    "    person_df[\"marker_color\"] = person_df[\"Career/Personal Life\"].map(color_dict)\n",
    "\n",
    "    # Let's create the plot's title\n",
    "    figure_title = f\"{person_name}'s Life, according to Wikipedia\"\n",
    "\n",
    "    # The actual graph figure!\n",
    "    fig = go.Figure()\n",
    "\n",
    "    # Add the data points with different colors\n",
    "    for category, category_df in person_df.groupby(\"Career/Personal Life\"):\n",
    "        fig.add_trace(\n",
    "            go.Scatter(\n",
    "                x=category_df[\"year\"],\n",
    "                y=[1] * len(category_df),\n",
    "                mode=\"markers+text\",\n",
    "                marker=dict(size=20, color=color_dict[category]),\n",
    "                text=category_df[\"year\"].astype(str) + \" - Age: \" + category_df[\"age\"].astype(str),\n",
    "                hoverinfo=\"text\",\n",
    "                hovertext=category_df[\"hover_text\"],\n",
    "                showlegend=False,\n",
    "                textposition=\"bottom center\",\n",
    "                textfont=dict(color=\"black\", size=10, family=\"inherit\"),\n",
    "            )\n",
    "        )\n",
    "\n",
    "    fig.update_layout(\n",
    "        title=figure_title,\n",
    "        xaxis=dict(showgrid=True, showline=True, showticklabels=True, ticks=\"outside\"),\n",
    "        yaxis=dict(showgrid=False, showline=False, showticklabels=False),\n",
    "        hovermode=\"closest\",\n",
    "    )\n",
    "\n",
    "    return fig\n",
    "\n",
    "\n",
    "app = dash.Dash(__name__)\n",
    "\n",
    "# Tableau link\n",
    "tableau_link = 'https://public.tableau.com/views/urachacha_wikikikik/1_1?:language=en-US&:display_count=n&:origin=viz_share_link'\n",
    "\n",
    "df_dict = get_visualization_data()\n",
    "name_figures = {}\n",
    "for name, df in df_dict.items():\n",
    "    figure = generate_timeline(name, df)\n",
    "    name_figures[name] = figure\n",
    "\n",
    "app.layout = html.Div([\n",
    "    html.Div([\n",
    "        dcc.Dropdown(\n",
    "            id='name-dropdown',\n",
    "            options=[\n",
    "                {'label': name, 'value': name} for name in name_figures.keys()\n",
    "            ],\n",
    "            value=list(name_figures.keys())[0],\n",
    "            style={'width': '50%', 'margin-bottom': '20px'}\n",
    "        ),\n",
    "\n",
    "        html.Div(id='selected-name-figure-placeholder', style={'width': '100%'})\n",
    "    ], style={'width': '100%', 'margin-bottom': '20px'}),\n",
    "\n",
    "    html.Div([\n",
    "        # Replace the initial figure with the Tableau link\n",
    "        html.A(\n",
    "            \"Open Tableau Visualization\",\n",
    "            href='https://public.tableau.com/views/Metro_16986659627900/SeoulMetro?:language=en-US&:display_count=n&:origin=viz_share_link',\n",
    "            target='_blank',\n",
    "            style={'display': 'block', 'text-align': 'center', 'font-weight': 'bold', 'font-size': '20px'}\n",
    "        )\n",
    "    ], style={'width': '100%'}),\n",
    "])\n",
    "\n",
    "@app.callback(\n",
    "    Output('selected-name-figure-placeholder', 'children'),\n",
    "    [Input('name-dropdown', 'value')]\n",
    ")\n",
    "def display_selected_name_figure(selected_name):\n",
    "    if selected_name:\n",
    "        selected_figure = name_figures.get(selected_name, name_figures[list(name_figures.keys())[0]])\n",
    "        return dcc.Graph(\n",
    "            id='selected-name-figure',\n",
    "            figure=selected_figure,\n",
    "            style={'width': '100%'}\n",
    "        )\n",
    "    return None\n",
    "\n",
    "if __name__ == '__main__':\n",
    "    app.run_server(debug=True, use_reloader=False, mode=\"inline\")\n"
   ]
  }
 ],
 "metadata": {
  "kernelspec": {
   "display_name": "dataviz",
   "language": "python",
   "name": "dataviz"
  },
  "language_info": {
   "codemirror_mode": {
    "name": "ipython",
    "version": 3
   },
   "file_extension": ".py",
   "mimetype": "text/x-python",
   "name": "python",
   "nbconvert_exporter": "python",
   "pygments_lexer": "ipython3",
   "version": "3.10.13"
  }
 },
 "nbformat": 4,
 "nbformat_minor": 2
}
