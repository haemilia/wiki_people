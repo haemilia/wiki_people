{
 "cells": [
  {
   "cell_type": "code",
   "execution_count": 1,
   "metadata": {},
   "outputs": [],
   "source": [
    "import pandas as pd\n",
    "import spacy\n",
    "from pathlib import Path"
   ]
  },
  {
   "cell_type": "code",
   "execution_count": 2,
   "metadata": {},
   "outputs": [],
   "source": [
    "MAIN_PATH = Path(input()) # Input root directory"
   ]
  },
  {
   "cell_type": "code",
   "execution_count": 3,
   "metadata": {},
   "outputs": [],
   "source": [
    "test_df = pd.read_csv(MAIN_PATH / \"event_extraction/Winston_Churchill.csv\")\n",
    "test_df = test_df[test_df.iloc[:, 3] == \"summary\"]"
   ]
  },
  {
   "cell_type": "code",
   "execution_count": 11,
   "metadata": {},
   "outputs": [
    {
     "data": {
      "text/plain": [
       "'Ideologically an adherent to economic liberalism and imperialism, he was for most of his career a member of the Conservative Party, which he led from 1940 to 1955.'"
      ]
     },
     "execution_count": 11,
     "metadata": {},
     "output_type": "execute_result"
    }
   ],
   "source": [
    "test = test_df.iloc[18, 2]\n",
    "test"
   ]
  },
  {
   "cell_type": "code",
   "execution_count": 12,
   "metadata": {},
   "outputs": [
    {
     "data": {
      "text/plain": [
       "'In 1876, [1] was appointed Viceroy of Ireland, then part of the United Kingdom. [2] became [0]\\'s private secretary and the family relocated to Dublin. [1]\\'s brother, Jack, was born there in 1880. Throughout much of the 1880s, [2] and Jennie were effectively estranged, and [3] were mostly cared for by [4]] When [4] died in 1895, [1] wrote that \"[4] had been [1]\\'s dearest and most intimate friend during the whole of the twenty years [1] had lived\". [1] began boarding at St George\\'s School in Ascot, Berkshire, at age seven but was not academic and [1]\\'s behaviour was poor. In 1884, [1] transferred to Brunswick School in Hove, where [1]\\'s academic performance improved.'"
      ]
     },
     "execution_count": 12,
     "metadata": {},
     "output_type": "execute_result"
    }
   ],
   "source": [
    "text = \"In 1876, [1] was appointed Viceroy of Ireland, then part of the United Kingdom. [2] became [0]'s private secretary and the family relocated to Dublin. [1]'s brother, Jack, was born there in 1880. Throughout much of the 1880s, [2] and Jennie were effectively estranged, and [3] were mostly cared for by [4]] When [4] died in 1895, [1] wrote that \\\"[4] had been [1]'s dearest and most intimate friend during the whole of the twenty years [1] had lived\\\". [1] began boarding at St George's School in Ascot, Berkshire, at age seven but was not academic and [1]\\'s behaviour was poor. In 1884, [1] transferred to Brunswick School in Hove, where [1]\\'s academic performance improved.\"\n",
    "text"
   ]
  },
  {
   "cell_type": "code",
   "execution_count": 74,
   "metadata": {},
   "outputs": [],
   "source": [
    "import spacy\n",
    "from spacy.symbols import ORTH\n",
    "\n",
    "nlp = spacy.load(\"en_core_web_trf\") #Load spacy model\n",
    "\n",
    "def select_subject(num_tag_text: str, person_id = 0) -> [str]:\n",
    "\n",
    "    ############################################################################################################################################\n",
    "    # select_subject(): A function that selects sentences that have the designated person as the subject (active or passive) of the sentence.  #\n",
    "    #                                                                                       #\n",
    "    # num_tag_text: text that has replaced the people to number tags\n",
    "    # person_id: the tag number of the person of interest                                                                           #\n",
    "    ############################################################################################################################################\n",
    "\n",
    "    \n",
    "    # Add special tokens for people\n",
    "    for i in range(200):\n",
    "        nlp.tokenizer.add_special_case(f\"[{i}]\", [{ORTH: f\"[{i}]\"}])\n",
    "\n",
    "    doc = nlp(num_tag_text) #The text that has all people replaced with numbered tags is now processed through spacy\n",
    "    assert doc.has_annotation(\"SENT_START\")\n",
    "    selected_sentences = [] #Store all sentences with the main person's tag as the subject inside this list\n",
    "    for sent in doc.sents: # Go through all the sentences\n",
    "        sentence_doc = nlp(sent.text) # Run the sentence through spacy again, so that we can look through token by token.\n",
    "        sentence_added = False \n",
    "        for token in sentence_doc: # Go through all the tokens\n",
    "            if((token.dep_ == \"nsubj\" or token.dep_ == \"nsubjpass\") and # If the token is an active or passive subject\n",
    "               token.text == f\"[{person_id}]\" and # If the token is referring to the person we're interested in\n",
    "               not sentence_added):# If we haven't added this sentence to selected_sentences before\n",
    "                selected_sentences.append(sent) # Then, we can add the sentence to the list\n",
    "                sentence_added = True\n",
    "    return selected_sentences"
   ]
  },
  {
   "cell_type": "code",
   "execution_count": 75,
   "metadata": {},
   "outputs": [
    {
     "name": "stdout",
     "output_type": "stream",
     "text": [
      "In 1876, [1] was appointed Viceroy of Ireland, then part of the United Kingdom.\n",
      "Throughout much of the 1880s, [2] and Jennie were effectively estranged, and [3] were mostly cared for by [4]] When [4] died in 1895, [1] wrote that \"[4] had been [1]'s dearest and most intimate friend during the whole of the twenty years [1] had lived\".\n",
      "[1] began boarding at St George's School in Ascot, Berkshire, at age seven but was not academic and [1]'s behaviour was poor.\n",
      "In 1884, [1] transferred to Brunswick School in Hove, where [1]'s academic performance improved.\n"
     ]
    }
   ],
   "source": [
    "selected_subject_sentences = select_subject(text, 1)\n",
    "for sentence in selected_subject_sentences:\n",
    "    print(sentence)"
   ]
  },
  {
   "cell_type": "code",
   "execution_count": 123,
   "metadata": {},
   "outputs": [
    {
     "data": {
      "text/plain": [
       "\"In 1884, [1] transferred to Brunswick School in Hove, where [1]'s academic performance improved.\""
      ]
     },
     "execution_count": 123,
     "metadata": {},
     "output_type": "execute_result"
    }
   ],
   "source": [
    "selected_subject_sentences[3].text"
   ]
  },
  {
   "cell_type": "code",
   "execution_count": 7,
   "metadata": {},
   "outputs": [],
   "source": [
    "from spacy.matcher import Matcher\n",
    "from spacy.util import filter_spans\n",
    "nlp = spacy.load(\"en_core_web_trf\")"
   ]
  },
  {
   "cell_type": "code",
   "execution_count": 158,
   "metadata": {},
   "outputs": [],
   "source": [
    "import re\n",
    "def summarize(sentence: str, original_main_subject: str,  main_subject_tag = \"[0]\") -> [str]:\n",
    "   \n",
    "    pattern = [\n",
    "    {\"LEMMA\": main_subject_tag, \"DEP\": {\"in\": [\"nsubj\", \"nsubjpass\", \"ROOT\"]}, \"OP\": \"+\"},\n",
    "    {\"POS\": {\"in\": [\"VERB\", \"AUX\", \"ROOT\"]}, \"OP\": \"+\"},\n",
    "    {\"OP\": \"*\"},\n",
    "    {\"LEMMA\": {\"in\":[\".\", \"!\", \"?\"]}, \"OP\": \"!\"},\n",
    "    {\"DEP\": {\"in\": [\"dobj\", \"attr\", \"prep\"]}, \"OP\": \"*\"},\n",
    "    ]\n",
    "    nlp.tokenizer.add_special_case(main_subject_tag, [{ORTH: main_subject_tag}])\n",
    "    doc = nlp(sentence)\n",
    "    matcher = Matcher(nlp.vocab)\n",
    "    matcher.add(\"FindAction\", [pattern])\n",
    "\n",
    "    matches = matcher(doc)\n",
    "\n",
    "    spans = [doc[start+1:end] for _, start, end in matches]\n",
    "    filtered =  filter_spans(spans)\n",
    "    tag = re.compile(r'\\[0\\]')\n",
    "    result_list = []\n",
    "    for span in filtered:\n",
    "        span_text = \"\"\n",
    "        for tok in span:\n",
    "            if tag.search(tok.text):\n",
    "                span_text += original_main_subject\n",
    "            else:\n",
    "                span_text += tok.text_with_ws\n",
    "        result_list.append(span_text)\n",
    "\n",
    "    return result_list\n"
   ]
  },
  {
   "cell_type": "code",
   "execution_count": 159,
   "metadata": {},
   "outputs": [
    {
     "data": {
      "text/plain": [
       "[\"transferred to Brunswick School in Hove, where Churchill's academic performance improved\"]"
      ]
     },
     "execution_count": 159,
     "metadata": {},
     "output_type": "execute_result"
    }
   ],
   "source": [
    "summarize(selected_subject_sentences[3].text, \"Churchill\")"
   ]
  },
  {
   "cell_type": "code",
   "execution_count": 146,
   "metadata": {},
   "outputs": [],
   "source": [
    "import re\n",
    "\n",
    "text = \"This is a [0] example.\"\n",
    "\n",
    "tag = re.compile(r'\\[1\\]')\n"
   ]
  },
  {
   "cell_type": "code",
   "execution_count": 147,
   "metadata": {},
   "outputs": [
    {
     "data": {
      "text/plain": [
       "True"
      ]
     },
     "execution_count": 147,
     "metadata": {},
     "output_type": "execute_result"
    }
   ],
   "source": [
    "something = spans[-1].text\n",
    "bool(tag.search(something))"
   ]
  },
  {
   "cell_type": "code",
   "execution_count": 133,
   "metadata": {},
   "outputs": [
    {
     "data": {
      "text/plain": [
       "[\"transferred to Brunswick School in Hove, where [1]'s academic performance improved\"]"
      ]
     },
     "execution_count": 133,
     "metadata": {},
     "output_type": "execute_result"
    }
   ],
   "source": [
    "main_subject = \"[1]\"\n",
    "\n",
    "pattern = [\n",
    "    {\"LEMMA\": main_subject, \"DEP\": {\"in\": [\"nsubj\", \"nsubjpass\", \"ROOT\"]}, \"OP\": \"+\"},\n",
    "    {\"POS\": {\"in\": [\"VERB\", \"AUX\", \"ROOT\"]}, \"OP\": \"+\"},\n",
    "    {\"OP\": \"*\"},\n",
    "    {\"LEMMA\": {\"in\":[\".\", \"!\", \"?\"]}, \"OP\": \"!\"},\n",
    "    {\"DEP\": {\"in\": [\"dobj\", \"attr\", \"prep\"]}, \"OP\": \"*\"},    \n",
    "]\n",
    "nlp.tokenizer.add_special_case(f\"[1]\", [{ORTH: f\"[1]\"}])\n",
    "doc = nlp(selected_subject_sentences[3].text)\n",
    "matcher = Matcher(nlp.vocab)\n",
    "matcher.add(\"FindAction\", [pattern])\n",
    "\n",
    "matches = matcher(doc)\n",
    "\n",
    "spans = [doc[start+1:end] for _, start, end in matches]\n",
    "\n",
    "\n",
    "filtered =  filter_spans(spans)\n",
    "def is_tag(token, tag_format):\n",
    "\n",
    "for span in filtered:\n",
    "    back_to_str = \"\"\n",
    "    for tok in span:\n",
    "        if \n",
    "result_list = [span.text_with_ws for span in filtered]\n",
    "result_list"
   ]
  },
  {
   "cell_type": "code",
   "execution_count": 121,
   "metadata": {},
   "outputs": [
    {
     "name": "stdout",
     "output_type": "stream",
     "text": [
      "transferred ROOT\n",
      "to prep\n",
      "Brunswick compound\n",
      "School pobj\n",
      "in prep\n",
      "Hove pobj\n",
      ", punct\n",
      "where advmod\n",
      "[1] nmod\n",
      "'s poss\n",
      "academic amod\n",
      "performance nsubj\n",
      "improved relcl\n",
      ". punct\n"
     ]
    }
   ],
   "source": [
    "for i in filtered:\n",
    "    for ii in i:\n",
    "        print(ii.text, ii.dep_)"
   ]
  },
  {
   "cell_type": "code",
   "execution_count": 112,
   "metadata": {},
   "outputs": [
    {
     "data": {
      "text/plain": [
       "[\"began boarding at St George's School in Ascot, Berkshire, at age seven but was not academic and [1]'s behaviour was poor.\"]"
      ]
     },
     "execution_count": 112,
     "metadata": {},
     "output_type": "execute_result"
    }
   ],
   "source": [
    "result_list"
   ]
  },
  {
   "cell_type": "code",
   "execution_count": 160,
   "metadata": {},
   "outputs": [
    {
     "name": "stdout",
     "output_type": "stream",
     "text": [
      "[['he'], ['he'], ['he', 'most'], ['he', 'most'], ['he', 'most'], ['he', 'most', 'career'], ['he', 'most', 'career'], ['he', 'most', 'career'], ['he', 'most', 'career'], ['he', 'most', 'career'], ['he', 'most', 'career'], ['he', 'most', 'career', 'Party'], ['he'], ['he'], ['he', '1940'], ['he', '1940'], ['he', '1940', '1955'], ['he', '1940', '1955']]\n"
     ]
    }
   ],
   "source": [
    "# Define the pattern\n",
    "pattern = [\n",
    "    {\"DEP\": {\"in\": [\"nsubj\", \"nsubjpass\"]}, \"OP\": \"+\"},\n",
    "    {\"POS\": {\"in\": [\"VERB\", \"AUX\"]}, \"OP\": \"+\"},\n",
    "    {\"OP\": \"{0,10}\"},\n",
    "    {\"DEP\": {\"in\": [\"dobj\", \"pobj\"]}, \"OP\": \"*\"},\n",
    "]\n",
    "\n",
    "# Instantiate a Matcher instance\n",
    "matcher = Matcher(nlp.vocab)\n",
    "matcher.add(\"CustomPattern\", [pattern])\n",
    "\n",
    "\n",
    "# Apply the matcher to the processed document\n",
    "matches = matcher(doc)\n",
    "\n",
    "result_list = []\n",
    "for match_id, start, end in matches:\n",
    "    # Get the tokens that match the pattern\n",
    "    match_tokens = doc[start:end]\n",
    "    \n",
    "    # Extract relevant information\n",
    "    subj_verb_obj = [token.text for token in match_tokens if token.dep_ in [\"nsubj\", \"nsubjpass\", \"VERB\", \"AUX\", \"dobj\", \"pobj\"]]\n",
    "    \n",
    "    # Create a list with the extracted information\n",
    "    result_list.append(subj_verb_obj)\n",
    "\n",
    "# Print the result\n",
    "print(result_list)"
   ]
  },
  {
   "cell_type": "code",
   "execution_count": 124,
   "metadata": {},
   "outputs": [
    {
     "data": {
      "text/html": [
       "<span class=\"tex2jax_ignore\"><svg xmlns=\"http://www.w3.org/2000/svg\" xmlns:xlink=\"http://www.w3.org/1999/xlink\" xml:lang=\"en\" id=\"79073c4822fc400d930f2bde153507fe-0\" class=\"displacy\" width=\"2675\" height=\"574.5\" direction=\"ltr\" style=\"max-width: none; height: 574.5px; color: #000000; background: #ffffff; font-family: Arial; direction: ltr\">\n",
       "<text class=\"displacy-token\" fill=\"currentColor\" text-anchor=\"middle\" y=\"484.5\">\n",
       "    <tspan class=\"displacy-word\" fill=\"currentColor\" x=\"50\">In</tspan>\n",
       "    <tspan class=\"displacy-tag\" dy=\"2em\" fill=\"currentColor\" x=\"50\">ADP</tspan>\n",
       "</text>\n",
       "\n",
       "<text class=\"displacy-token\" fill=\"currentColor\" text-anchor=\"middle\" y=\"484.5\">\n",
       "    <tspan class=\"displacy-word\" fill=\"currentColor\" x=\"225\">1884,</tspan>\n",
       "    <tspan class=\"displacy-tag\" dy=\"2em\" fill=\"currentColor\" x=\"225\">NUM</tspan>\n",
       "</text>\n",
       "\n",
       "<text class=\"displacy-token\" fill=\"currentColor\" text-anchor=\"middle\" y=\"484.5\">\n",
       "    <tspan class=\"displacy-word\" fill=\"currentColor\" x=\"400\">[1]</tspan>\n",
       "    <tspan class=\"displacy-tag\" dy=\"2em\" fill=\"currentColor\" x=\"400\">X</tspan>\n",
       "</text>\n",
       "\n",
       "<text class=\"displacy-token\" fill=\"currentColor\" text-anchor=\"middle\" y=\"484.5\">\n",
       "    <tspan class=\"displacy-word\" fill=\"currentColor\" x=\"575\">transferred</tspan>\n",
       "    <tspan class=\"displacy-tag\" dy=\"2em\" fill=\"currentColor\" x=\"575\">VERB</tspan>\n",
       "</text>\n",
       "\n",
       "<text class=\"displacy-token\" fill=\"currentColor\" text-anchor=\"middle\" y=\"484.5\">\n",
       "    <tspan class=\"displacy-word\" fill=\"currentColor\" x=\"750\">to</tspan>\n",
       "    <tspan class=\"displacy-tag\" dy=\"2em\" fill=\"currentColor\" x=\"750\">ADP</tspan>\n",
       "</text>\n",
       "\n",
       "<text class=\"displacy-token\" fill=\"currentColor\" text-anchor=\"middle\" y=\"484.5\">\n",
       "    <tspan class=\"displacy-word\" fill=\"currentColor\" x=\"925\">Brunswick</tspan>\n",
       "    <tspan class=\"displacy-tag\" dy=\"2em\" fill=\"currentColor\" x=\"925\">PROPN</tspan>\n",
       "</text>\n",
       "\n",
       "<text class=\"displacy-token\" fill=\"currentColor\" text-anchor=\"middle\" y=\"484.5\">\n",
       "    <tspan class=\"displacy-word\" fill=\"currentColor\" x=\"1100\">School</tspan>\n",
       "    <tspan class=\"displacy-tag\" dy=\"2em\" fill=\"currentColor\" x=\"1100\">PROPN</tspan>\n",
       "</text>\n",
       "\n",
       "<text class=\"displacy-token\" fill=\"currentColor\" text-anchor=\"middle\" y=\"484.5\">\n",
       "    <tspan class=\"displacy-word\" fill=\"currentColor\" x=\"1275\">in</tspan>\n",
       "    <tspan class=\"displacy-tag\" dy=\"2em\" fill=\"currentColor\" x=\"1275\">ADP</tspan>\n",
       "</text>\n",
       "\n",
       "<text class=\"displacy-token\" fill=\"currentColor\" text-anchor=\"middle\" y=\"484.5\">\n",
       "    <tspan class=\"displacy-word\" fill=\"currentColor\" x=\"1450\">Hove,</tspan>\n",
       "    <tspan class=\"displacy-tag\" dy=\"2em\" fill=\"currentColor\" x=\"1450\">PROPN</tspan>\n",
       "</text>\n",
       "\n",
       "<text class=\"displacy-token\" fill=\"currentColor\" text-anchor=\"middle\" y=\"484.5\">\n",
       "    <tspan class=\"displacy-word\" fill=\"currentColor\" x=\"1625\">where</tspan>\n",
       "    <tspan class=\"displacy-tag\" dy=\"2em\" fill=\"currentColor\" x=\"1625\">SCONJ</tspan>\n",
       "</text>\n",
       "\n",
       "<text class=\"displacy-token\" fill=\"currentColor\" text-anchor=\"middle\" y=\"484.5\">\n",
       "    <tspan class=\"displacy-word\" fill=\"currentColor\" x=\"1800\">[1]</tspan>\n",
       "    <tspan class=\"displacy-tag\" dy=\"2em\" fill=\"currentColor\" x=\"1800\">X</tspan>\n",
       "</text>\n",
       "\n",
       "<text class=\"displacy-token\" fill=\"currentColor\" text-anchor=\"middle\" y=\"484.5\">\n",
       "    <tspan class=\"displacy-word\" fill=\"currentColor\" x=\"1975\">'s</tspan>\n",
       "    <tspan class=\"displacy-tag\" dy=\"2em\" fill=\"currentColor\" x=\"1975\">PART</tspan>\n",
       "</text>\n",
       "\n",
       "<text class=\"displacy-token\" fill=\"currentColor\" text-anchor=\"middle\" y=\"484.5\">\n",
       "    <tspan class=\"displacy-word\" fill=\"currentColor\" x=\"2150\">academic</tspan>\n",
       "    <tspan class=\"displacy-tag\" dy=\"2em\" fill=\"currentColor\" x=\"2150\">ADJ</tspan>\n",
       "</text>\n",
       "\n",
       "<text class=\"displacy-token\" fill=\"currentColor\" text-anchor=\"middle\" y=\"484.5\">\n",
       "    <tspan class=\"displacy-word\" fill=\"currentColor\" x=\"2325\">performance</tspan>\n",
       "    <tspan class=\"displacy-tag\" dy=\"2em\" fill=\"currentColor\" x=\"2325\">NOUN</tspan>\n",
       "</text>\n",
       "\n",
       "<text class=\"displacy-token\" fill=\"currentColor\" text-anchor=\"middle\" y=\"484.5\">\n",
       "    <tspan class=\"displacy-word\" fill=\"currentColor\" x=\"2500\">improved.</tspan>\n",
       "    <tspan class=\"displacy-tag\" dy=\"2em\" fill=\"currentColor\" x=\"2500\">VERB</tspan>\n",
       "</text>\n",
       "\n",
       "<g class=\"displacy-arrow\">\n",
       "    <path class=\"displacy-arc\" id=\"arrow-79073c4822fc400d930f2bde153507fe-0-0\" stroke-width=\"2px\" d=\"M70,439.5 C70,264.5 560.0,264.5 560.0,439.5\" fill=\"none\" stroke=\"currentColor\"/>\n",
       "    <text dy=\"1.25em\" style=\"font-size: 0.8em; letter-spacing: 1px\">\n",
       "        <textPath xlink:href=\"#arrow-79073c4822fc400d930f2bde153507fe-0-0\" class=\"displacy-label\" startOffset=\"50%\" side=\"left\" fill=\"currentColor\" text-anchor=\"middle\">prep</textPath>\n",
       "    </text>\n",
       "    <path class=\"displacy-arrowhead\" d=\"M70,441.5 L62,429.5 78,429.5\" fill=\"currentColor\"/>\n",
       "</g>\n",
       "\n",
       "<g class=\"displacy-arrow\">\n",
       "    <path class=\"displacy-arc\" id=\"arrow-79073c4822fc400d930f2bde153507fe-0-1\" stroke-width=\"2px\" d=\"M70,439.5 C70,352.0 205.0,352.0 205.0,439.5\" fill=\"none\" stroke=\"currentColor\"/>\n",
       "    <text dy=\"1.25em\" style=\"font-size: 0.8em; letter-spacing: 1px\">\n",
       "        <textPath xlink:href=\"#arrow-79073c4822fc400d930f2bde153507fe-0-1\" class=\"displacy-label\" startOffset=\"50%\" side=\"left\" fill=\"currentColor\" text-anchor=\"middle\">pobj</textPath>\n",
       "    </text>\n",
       "    <path class=\"displacy-arrowhead\" d=\"M205.0,441.5 L213.0,429.5 197.0,429.5\" fill=\"currentColor\"/>\n",
       "</g>\n",
       "\n",
       "<g class=\"displacy-arrow\">\n",
       "    <path class=\"displacy-arc\" id=\"arrow-79073c4822fc400d930f2bde153507fe-0-2\" stroke-width=\"2px\" d=\"M420,439.5 C420,352.0 555.0,352.0 555.0,439.5\" fill=\"none\" stroke=\"currentColor\"/>\n",
       "    <text dy=\"1.25em\" style=\"font-size: 0.8em; letter-spacing: 1px\">\n",
       "        <textPath xlink:href=\"#arrow-79073c4822fc400d930f2bde153507fe-0-2\" class=\"displacy-label\" startOffset=\"50%\" side=\"left\" fill=\"currentColor\" text-anchor=\"middle\">nsubj</textPath>\n",
       "    </text>\n",
       "    <path class=\"displacy-arrowhead\" d=\"M420,441.5 L412,429.5 428,429.5\" fill=\"currentColor\"/>\n",
       "</g>\n",
       "\n",
       "<g class=\"displacy-arrow\">\n",
       "    <path class=\"displacy-arc\" id=\"arrow-79073c4822fc400d930f2bde153507fe-0-3\" stroke-width=\"2px\" d=\"M595,439.5 C595,352.0 730.0,352.0 730.0,439.5\" fill=\"none\" stroke=\"currentColor\"/>\n",
       "    <text dy=\"1.25em\" style=\"font-size: 0.8em; letter-spacing: 1px\">\n",
       "        <textPath xlink:href=\"#arrow-79073c4822fc400d930f2bde153507fe-0-3\" class=\"displacy-label\" startOffset=\"50%\" side=\"left\" fill=\"currentColor\" text-anchor=\"middle\">prep</textPath>\n",
       "    </text>\n",
       "    <path class=\"displacy-arrowhead\" d=\"M730.0,441.5 L738.0,429.5 722.0,429.5\" fill=\"currentColor\"/>\n",
       "</g>\n",
       "\n",
       "<g class=\"displacy-arrow\">\n",
       "    <path class=\"displacy-arc\" id=\"arrow-79073c4822fc400d930f2bde153507fe-0-4\" stroke-width=\"2px\" d=\"M945,439.5 C945,352.0 1080.0,352.0 1080.0,439.5\" fill=\"none\" stroke=\"currentColor\"/>\n",
       "    <text dy=\"1.25em\" style=\"font-size: 0.8em; letter-spacing: 1px\">\n",
       "        <textPath xlink:href=\"#arrow-79073c4822fc400d930f2bde153507fe-0-4\" class=\"displacy-label\" startOffset=\"50%\" side=\"left\" fill=\"currentColor\" text-anchor=\"middle\">compound</textPath>\n",
       "    </text>\n",
       "    <path class=\"displacy-arrowhead\" d=\"M945,441.5 L937,429.5 953,429.5\" fill=\"currentColor\"/>\n",
       "</g>\n",
       "\n",
       "<g class=\"displacy-arrow\">\n",
       "    <path class=\"displacy-arc\" id=\"arrow-79073c4822fc400d930f2bde153507fe-0-5\" stroke-width=\"2px\" d=\"M770,439.5 C770,264.5 1085.0,264.5 1085.0,439.5\" fill=\"none\" stroke=\"currentColor\"/>\n",
       "    <text dy=\"1.25em\" style=\"font-size: 0.8em; letter-spacing: 1px\">\n",
       "        <textPath xlink:href=\"#arrow-79073c4822fc400d930f2bde153507fe-0-5\" class=\"displacy-label\" startOffset=\"50%\" side=\"left\" fill=\"currentColor\" text-anchor=\"middle\">pobj</textPath>\n",
       "    </text>\n",
       "    <path class=\"displacy-arrowhead\" d=\"M1085.0,441.5 L1093.0,429.5 1077.0,429.5\" fill=\"currentColor\"/>\n",
       "</g>\n",
       "\n",
       "<g class=\"displacy-arrow\">\n",
       "    <path class=\"displacy-arc\" id=\"arrow-79073c4822fc400d930f2bde153507fe-0-6\" stroke-width=\"2px\" d=\"M1120,439.5 C1120,352.0 1255.0,352.0 1255.0,439.5\" fill=\"none\" stroke=\"currentColor\"/>\n",
       "    <text dy=\"1.25em\" style=\"font-size: 0.8em; letter-spacing: 1px\">\n",
       "        <textPath xlink:href=\"#arrow-79073c4822fc400d930f2bde153507fe-0-6\" class=\"displacy-label\" startOffset=\"50%\" side=\"left\" fill=\"currentColor\" text-anchor=\"middle\">prep</textPath>\n",
       "    </text>\n",
       "    <path class=\"displacy-arrowhead\" d=\"M1255.0,441.5 L1263.0,429.5 1247.0,429.5\" fill=\"currentColor\"/>\n",
       "</g>\n",
       "\n",
       "<g class=\"displacy-arrow\">\n",
       "    <path class=\"displacy-arc\" id=\"arrow-79073c4822fc400d930f2bde153507fe-0-7\" stroke-width=\"2px\" d=\"M1295,439.5 C1295,352.0 1430.0,352.0 1430.0,439.5\" fill=\"none\" stroke=\"currentColor\"/>\n",
       "    <text dy=\"1.25em\" style=\"font-size: 0.8em; letter-spacing: 1px\">\n",
       "        <textPath xlink:href=\"#arrow-79073c4822fc400d930f2bde153507fe-0-7\" class=\"displacy-label\" startOffset=\"50%\" side=\"left\" fill=\"currentColor\" text-anchor=\"middle\">pobj</textPath>\n",
       "    </text>\n",
       "    <path class=\"displacy-arrowhead\" d=\"M1430.0,441.5 L1438.0,429.5 1422.0,429.5\" fill=\"currentColor\"/>\n",
       "</g>\n",
       "\n",
       "<g class=\"displacy-arrow\">\n",
       "    <path class=\"displacy-arc\" id=\"arrow-79073c4822fc400d930f2bde153507fe-0-8\" stroke-width=\"2px\" d=\"M1645,439.5 C1645,89.5 2495.0,89.5 2495.0,439.5\" fill=\"none\" stroke=\"currentColor\"/>\n",
       "    <text dy=\"1.25em\" style=\"font-size: 0.8em; letter-spacing: 1px\">\n",
       "        <textPath xlink:href=\"#arrow-79073c4822fc400d930f2bde153507fe-0-8\" class=\"displacy-label\" startOffset=\"50%\" side=\"left\" fill=\"currentColor\" text-anchor=\"middle\">advmod</textPath>\n",
       "    </text>\n",
       "    <path class=\"displacy-arrowhead\" d=\"M1645,441.5 L1637,429.5 1653,429.5\" fill=\"currentColor\"/>\n",
       "</g>\n",
       "\n",
       "<g class=\"displacy-arrow\">\n",
       "    <path class=\"displacy-arc\" id=\"arrow-79073c4822fc400d930f2bde153507fe-0-9\" stroke-width=\"2px\" d=\"M1820,439.5 C1820,177.0 2315.0,177.0 2315.0,439.5\" fill=\"none\" stroke=\"currentColor\"/>\n",
       "    <text dy=\"1.25em\" style=\"font-size: 0.8em; letter-spacing: 1px\">\n",
       "        <textPath xlink:href=\"#arrow-79073c4822fc400d930f2bde153507fe-0-9\" class=\"displacy-label\" startOffset=\"50%\" side=\"left\" fill=\"currentColor\" text-anchor=\"middle\">nmod</textPath>\n",
       "    </text>\n",
       "    <path class=\"displacy-arrowhead\" d=\"M1820,441.5 L1812,429.5 1828,429.5\" fill=\"currentColor\"/>\n",
       "</g>\n",
       "\n",
       "<g class=\"displacy-arrow\">\n",
       "    <path class=\"displacy-arc\" id=\"arrow-79073c4822fc400d930f2bde153507fe-0-10\" stroke-width=\"2px\" d=\"M1995,439.5 C1995,264.5 2310.0,264.5 2310.0,439.5\" fill=\"none\" stroke=\"currentColor\"/>\n",
       "    <text dy=\"1.25em\" style=\"font-size: 0.8em; letter-spacing: 1px\">\n",
       "        <textPath xlink:href=\"#arrow-79073c4822fc400d930f2bde153507fe-0-10\" class=\"displacy-label\" startOffset=\"50%\" side=\"left\" fill=\"currentColor\" text-anchor=\"middle\">poss</textPath>\n",
       "    </text>\n",
       "    <path class=\"displacy-arrowhead\" d=\"M1995,441.5 L1987,429.5 2003,429.5\" fill=\"currentColor\"/>\n",
       "</g>\n",
       "\n",
       "<g class=\"displacy-arrow\">\n",
       "    <path class=\"displacy-arc\" id=\"arrow-79073c4822fc400d930f2bde153507fe-0-11\" stroke-width=\"2px\" d=\"M2170,439.5 C2170,352.0 2305.0,352.0 2305.0,439.5\" fill=\"none\" stroke=\"currentColor\"/>\n",
       "    <text dy=\"1.25em\" style=\"font-size: 0.8em; letter-spacing: 1px\">\n",
       "        <textPath xlink:href=\"#arrow-79073c4822fc400d930f2bde153507fe-0-11\" class=\"displacy-label\" startOffset=\"50%\" side=\"left\" fill=\"currentColor\" text-anchor=\"middle\">amod</textPath>\n",
       "    </text>\n",
       "    <path class=\"displacy-arrowhead\" d=\"M2170,441.5 L2162,429.5 2178,429.5\" fill=\"currentColor\"/>\n",
       "</g>\n",
       "\n",
       "<g class=\"displacy-arrow\">\n",
       "    <path class=\"displacy-arc\" id=\"arrow-79073c4822fc400d930f2bde153507fe-0-12\" stroke-width=\"2px\" d=\"M2345,439.5 C2345,352.0 2480.0,352.0 2480.0,439.5\" fill=\"none\" stroke=\"currentColor\"/>\n",
       "    <text dy=\"1.25em\" style=\"font-size: 0.8em; letter-spacing: 1px\">\n",
       "        <textPath xlink:href=\"#arrow-79073c4822fc400d930f2bde153507fe-0-12\" class=\"displacy-label\" startOffset=\"50%\" side=\"left\" fill=\"currentColor\" text-anchor=\"middle\">nsubj</textPath>\n",
       "    </text>\n",
       "    <path class=\"displacy-arrowhead\" d=\"M2345,441.5 L2337,429.5 2353,429.5\" fill=\"currentColor\"/>\n",
       "</g>\n",
       "\n",
       "<g class=\"displacy-arrow\">\n",
       "    <path class=\"displacy-arc\" id=\"arrow-79073c4822fc400d930f2bde153507fe-0-13\" stroke-width=\"2px\" d=\"M1120,439.5 C1120,2.0 2500.0,2.0 2500.0,439.5\" fill=\"none\" stroke=\"currentColor\"/>\n",
       "    <text dy=\"1.25em\" style=\"font-size: 0.8em; letter-spacing: 1px\">\n",
       "        <textPath xlink:href=\"#arrow-79073c4822fc400d930f2bde153507fe-0-13\" class=\"displacy-label\" startOffset=\"50%\" side=\"left\" fill=\"currentColor\" text-anchor=\"middle\">relcl</textPath>\n",
       "    </text>\n",
       "    <path class=\"displacy-arrowhead\" d=\"M2500.0,441.5 L2508.0,429.5 2492.0,429.5\" fill=\"currentColor\"/>\n",
       "</g>\n",
       "</svg></span>"
      ],
      "text/plain": [
       "<IPython.core.display.HTML object>"
      ]
     },
     "metadata": {},
     "output_type": "display_data"
    }
   ],
   "source": [
    "from spacy import displacy\n",
    "displacy.render(doc, style='dep')"
   ]
  }
 ],
 "metadata": {
  "kernelspec": {
   "display_name": "temporal",
   "language": "python",
   "name": "temporal"
  },
  "language_info": {
   "codemirror_mode": {
    "name": "ipython",
    "version": 3
   },
   "file_extension": ".py",
   "mimetype": "text/x-python",
   "name": "python",
   "nbconvert_exporter": "python",
   "pygments_lexer": "ipython3",
   "version": "3.8.18"
  }
 },
 "nbformat": 4,
 "nbformat_minor": 2
}
